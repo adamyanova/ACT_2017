{
 "cells": [
  {
   "cell_type": "markdown",
   "metadata": {},
   "source": [
    "# Question 1"
   ]
  },
  {
   "cell_type": "code",
   "execution_count": 23,
   "metadata": {},
   "outputs": [],
   "source": [
    "%matplotlib inline\n",
    "\n",
    "import matplotlib.pyplot as plt\n",
    "import numpy as np\n",
    "np.random.seed(123)\n",
    "rand_state = 2314\n",
    "\n",
    "from sklearn.model_selection import train_test_split\n",
    "from keras.layers import Input, Dense, Activation, Flatten\n",
    "from keras.layers import Dropout, Conv2D, MaxPool2D, BatchNormalization\n",
    "from keras.models import Model\n",
    "from keras.optimizers import SGD\n",
    "from keras.callbacks import Callback\n",
    "from keras.datasets import fashion_mnist\n",
    "from keras import utils\n",
    "\n",
    "import pandas as pd\n"
   ]
  },
  {
   "cell_type": "code",
   "execution_count": 8,
   "metadata": {},
   "outputs": [],
   "source": [
    "(X_train, y_train), (X_test, y_test) = fashion_mnist.load_data()\n",
    "\n",
    "# convert our data into a rank 3 tensor\n",
    "X_train = X_train.reshape(X_train.shape[0], 28, 28, 1).astype(np.float64)\n",
    "X_test = X_test.reshape(X_test.shape[0], 28, 28, 1).astype(np.float64)\n",
    "\n",
    "X_train = X_train.astype('float32')\n",
    "X_test = X_test.astype('float32')\n",
    "X_train /= 255\n",
    "X_test /= 255\n",
    "\n",
    "num_classes = 10\n",
    "y_train = utils.to_categorical(y_train, num_classes)\n",
    "y_test = utils.to_categorical(y_test, num_classes)\n",
    "\n",
    "X_train, X_train_small, y_train, y_train_small = train_test_split(X_train, y_train,\n",
    "                                                  test_size=10000,\n",
    "                                                  random_state=42)"
   ]
  },
  {
   "cell_type": "markdown",
   "metadata": {},
   "source": [
    "## Test Tim's NN"
   ]
  },
  {
   "cell_type": "code",
   "execution_count": 9,
   "metadata": {},
   "outputs": [],
   "source": [
    "input_image = Input(shape=(28, 28, 1))\n",
    "x = Conv2D(32, 5, activation='relu')(input_image)\n",
    "x = MaxPool2D(2, strides=2)(x)\n",
    "x = Conv2D(64, 3, activation='relu')(x)\n",
    "x = MaxPool2D(2, strides=2)(x)\n",
    "x = Flatten()(x)\n",
    "x = Dense(256, activation='relu')(x)\n",
    "x = Dense(10, activation='softmax')(x)\n",
    "convnet = Model(inputs=input_image, outputs=x)"
   ]
  },
  {
   "cell_type": "code",
   "execution_count": 10,
   "metadata": {
    "collapsed": true
   },
   "outputs": [],
   "source": [
    "convnet.compile(optimizer='adam',\n",
    "                loss='categorical_crossentropy',\n",
    "                metrics=['accuracy'])"
   ]
  },
  {
   "cell_type": "code",
   "execution_count": 11,
   "metadata": {},
   "outputs": [
    {
     "name": "stdout",
     "output_type": "stream",
     "text": [
      "Train on 42000 samples, validate on 18000 samples\n",
      "Epoch 1/20\n",
      "42000/42000 [==============================] - 32s 769us/step - loss: 0.5753 - acc: 0.7950 - val_loss: 0.4398 - val_acc: 0.8452\n",
      "Epoch 2/20\n",
      "42000/42000 [==============================] - 32s 763us/step - loss: 0.3768 - acc: 0.8649 - val_loss: 0.3484 - val_acc: 0.8763\n",
      "Epoch 3/20\n",
      "42000/42000 [==============================] - 31s 747us/step - loss: 0.3196 - acc: 0.8851 - val_loss: 0.3570 - val_acc: 0.8691\n",
      "Epoch 4/20\n",
      "42000/42000 [==============================] - 30s 713us/step - loss: 0.2884 - acc: 0.8955 - val_loss: 0.3043 - val_acc: 0.8909\n",
      "Epoch 5/20\n",
      "42000/42000 [==============================] - 32s 755us/step - loss: 0.2572 - acc: 0.9060 - val_loss: 0.2866 - val_acc: 0.8989\n",
      "Epoch 6/20\n",
      "42000/42000 [==============================] - 33s 776us/step - loss: 0.2390 - acc: 0.9122 - val_loss: 0.3039 - val_acc: 0.8894\n",
      "Epoch 7/20\n",
      "42000/42000 [==============================] - 30s 719us/step - loss: 0.2182 - acc: 0.9190 - val_loss: 0.2539 - val_acc: 0.9108\n",
      "Epoch 8/20\n",
      "42000/42000 [==============================] - 31s 738us/step - loss: 0.2065 - acc: 0.9239 - val_loss: 0.2537 - val_acc: 0.9094\n",
      "Epoch 9/20\n",
      "42000/42000 [==============================] - 31s 747us/step - loss: 0.1868 - acc: 0.9304 - val_loss: 0.2483 - val_acc: 0.9151\n",
      "Epoch 10/20\n",
      "42000/42000 [==============================] - 33s 774us/step - loss: 0.1680 - acc: 0.9388 - val_loss: 0.2633 - val_acc: 0.9081\n",
      "Epoch 11/20\n",
      "42000/42000 [==============================] - 34s 800us/step - loss: 0.1573 - acc: 0.9419 - val_loss: 0.2467 - val_acc: 0.9147\n",
      "Epoch 12/20\n",
      "42000/42000 [==============================] - 32s 751us/step - loss: 0.1428 - acc: 0.9475 - val_loss: 0.2697 - val_acc: 0.9145\n",
      "Epoch 13/20\n",
      "42000/42000 [==============================] - 30s 725us/step - loss: 0.1307 - acc: 0.9515 - val_loss: 0.2922 - val_acc: 0.8997\n",
      "Epoch 14/20\n",
      "42000/42000 [==============================] - 32s 758us/step - loss: 0.1210 - acc: 0.9550 - val_loss: 0.2720 - val_acc: 0.9122\n",
      "Epoch 15/20\n",
      "42000/42000 [==============================] - 31s 741us/step - loss: 0.1120 - acc: 0.9581 - val_loss: 0.2951 - val_acc: 0.9017\n",
      "Epoch 16/20\n",
      "42000/42000 [==============================] - 30s 714us/step - loss: 0.0998 - acc: 0.9628 - val_loss: 0.2681 - val_acc: 0.9178\n",
      "Epoch 17/20\n",
      "42000/42000 [==============================] - 32s 767us/step - loss: 0.0884 - acc: 0.9674 - val_loss: 0.2791 - val_acc: 0.9156\n",
      "Epoch 18/20\n",
      "42000/42000 [==============================] - 33s 779us/step - loss: 0.0775 - acc: 0.9709 - val_loss: 0.3332 - val_acc: 0.9083\n",
      "Epoch 19/20\n",
      "42000/42000 [==============================] - 31s 727us/step - loss: 0.0732 - acc: 0.9744 - val_loss: 0.2948 - val_acc: 0.9175\n",
      "Epoch 20/20\n",
      "42000/42000 [==============================] - 32s 755us/step - loss: 0.0625 - acc: 0.9774 - val_loss: 0.3207 - val_acc: 0.9109\n"
     ]
    }
   ],
   "source": [
    "history_callback = convnet.fit(X_train, y_train,\n",
    "                               batch_size=128,\n",
    "                               epochs=20, verbose=1,\n",
    "                               validation_split=.3)"
   ]
  },
  {
   "cell_type": "code",
   "execution_count": 12,
   "metadata": {},
   "outputs": [
    {
     "data": {
      "image/png": "[encoded data removed]",
      "text/plain": [
       "<Figure size 432x288 with 2 Axes>"
      ]
     },
     "metadata": {},
     "output_type": "display_data"
    }
   ],
   "source": [
    "df = pd.DataFrame(history_callback.history)\n",
    "df[['acc', 'val_acc']].plot()\n",
    "plt.ylabel(\"accuracy\")\n",
    "df[['loss', 'val_loss']].plot(linestyle='--', ax=plt.twinx())\n",
    "plt.ylabel(\"loss\");"
   ]
  },
  {
   "cell_type": "markdown",
   "metadata": {},
   "source": [
    "### Test Convolution and Dropout layers"
   ]
  },
  {
   "cell_type": "code",
   "execution_count": 16,
   "metadata": {
    "collapsed": true
   },
   "outputs": [],
   "source": [
    "input_image = Input(shape=(28, 28, 1))\n",
    "x = Conv2D(16, 6, activation='relu')(input_image)\n",
    "x = Dropout(0.1)(x)\n",
    "x = Conv2D(32, 3, activation='relu')(x)\n",
    "x = Flatten()(x)\n",
    "x = Dense(256, activation='relu')(x)\n",
    "x = Dense(10, activation='softmax')(x)\n",
    "convnet = Model(inputs=input_image, outputs=x)"
   ]
  },
  {
   "cell_type": "code",
   "execution_count": null,
   "metadata": {},
   "outputs": [],
   "source": [
    "convnet.compile(optimizer='adam',\n",
    "                loss='categorical_crossentropy',\n",
    "                metrics=['accuracy'])\n"
   ]
  },
  {
   "cell_type": "code",
   "execution_count": 19,
   "metadata": {},
   "outputs": [
    {
     "name": "stdout",
     "output_type": "stream",
     "text": [
      "Train on 7000 samples, validate on 3000 samples\n",
      "Epoch 1/20\n",
      "7000/7000 [==============================] - 10s 1ms/step - loss: 0.4139 - acc: 0.8506 - val_loss: 0.3936 - val_acc: 0.8610\n",
      "Epoch 2/20\n",
      "7000/7000 [==============================] - 10s 1ms/step - loss: 0.3518 - acc: 0.8727 - val_loss: 0.3874 - val_acc: 0.8630\n",
      "Epoch 3/20\n",
      "7000/7000 [==============================] - 10s 1ms/step - loss: 0.3067 - acc: 0.8859 - val_loss: 0.3882 - val_acc: 0.8627\n",
      "Epoch 4/20\n",
      "7000/7000 [==============================] - 9s 1ms/step - loss: 0.2655 - acc: 0.9027 - val_loss: 0.3872 - val_acc: 0.8650\n",
      "Epoch 5/20\n",
      "7000/7000 [==============================] - 9s 1ms/step - loss: 0.2535 - acc: 0.9097 - val_loss: 0.3665 - val_acc: 0.8687\n",
      "Epoch 6/20\n",
      "7000/7000 [==============================] - 10s 1ms/step - loss: 0.2150 - acc: 0.9223 - val_loss: 0.3647 - val_acc: 0.8737\n",
      "Epoch 7/20\n",
      "7000/7000 [==============================] - 10s 1ms/step - loss: 0.1788 - acc: 0.9347 - val_loss: 0.3797 - val_acc: 0.8793\n",
      "Epoch 8/20\n",
      "7000/7000 [==============================] - 11s 2ms/step - loss: 0.1524 - acc: 0.9487 - val_loss: 0.4128 - val_acc: 0.8690\n",
      "Epoch 9/20\n",
      "7000/7000 [==============================] - 11s 2ms/step - loss: 0.1376 - acc: 0.9509 - val_loss: 0.3850 - val_acc: 0.8770\n",
      "Epoch 10/20\n",
      "7000/7000 [==============================] - 10s 1ms/step - loss: 0.1129 - acc: 0.9601 - val_loss: 0.4056 - val_acc: 0.8783\n",
      "Epoch 11/20\n",
      "7000/7000 [==============================] - 10s 1ms/step - loss: 0.1169 - acc: 0.9571 - val_loss: 0.4484 - val_acc: 0.8777\n",
      "Epoch 12/20\n",
      "7000/7000 [==============================] - 10s 1ms/step - loss: 0.0942 - acc: 0.9656 - val_loss: 0.4540 - val_acc: 0.8760\n",
      "Epoch 13/20\n",
      "7000/7000 [==============================] - 10s 1ms/step - loss: 0.0826 - acc: 0.9723 - val_loss: 0.4410 - val_acc: 0.8810\n",
      "Epoch 14/20\n",
      "7000/7000 [==============================] - 10s 1ms/step - loss: 0.0656 - acc: 0.9786 - val_loss: 0.4589 - val_acc: 0.8803\n",
      "Epoch 15/20\n",
      "7000/7000 [==============================] - 10s 1ms/step - loss: 0.0575 - acc: 0.9804 - val_loss: 0.4901 - val_acc: 0.8723\n",
      "Epoch 16/20\n",
      "7000/7000 [==============================] - 10s 1ms/step - loss: 0.0580 - acc: 0.9823 - val_loss: 0.4883 - val_acc: 0.8763\n",
      "Epoch 17/20\n",
      "7000/7000 [==============================] - 10s 1ms/step - loss: 0.0445 - acc: 0.9864 - val_loss: 0.5014 - val_acc: 0.8837\n",
      "Epoch 18/20\n",
      "7000/7000 [==============================] - 10s 1ms/step - loss: 0.0324 - acc: 0.9906 - val_loss: 0.5080 - val_acc: 0.8827\n",
      "Epoch 19/20\n",
      "7000/7000 [==============================] - 10s 1ms/step - loss: 0.0235 - acc: 0.9939 - val_loss: 0.5260 - val_acc: 0.8807\n",
      "Epoch 20/20\n",
      "7000/7000 [==============================] - 10s 1ms/step - loss: 0.0222 - acc: 0.9949 - val_loss: 0.5581 - val_acc: 0.8747\n"
     ]
    }
   ],
   "source": [
    "history_callback = convnet.fit(X_train_small, y_train_small,\n",
    "                               batch_size=128,\n",
    "                               epochs=20, verbose=1,\n",
    "                               validation_split=.3)"
   ]
  },
  {
   "cell_type": "markdown",
   "metadata": {},
   "source": [
    "### Add more Dropout layers and reduce nodes"
   ]
  },
  {
   "cell_type": "code",
   "execution_count": 20,
   "metadata": {
    "collapsed": true
   },
   "outputs": [],
   "source": [
    "input_image = Input(shape=(28, 28, 1))\n",
    "x = Conv2D(16, 6, activation='relu')(input_image)\n",
    "x = Dropout(0.2)(x)\n",
    "x = Conv2D(32, 3, activation='relu')(x)\n",
    "x = Flatten()(x)\n",
    "x = Dense(40, activation='relu')(x)\n",
    "x = Dropout(0.2)(x)\n",
    "x = Dense(10, activation='softmax')(x)\n",
    "convnet = Model(inputs=input_image, outputs=x)\n",
    "\n",
    "convnet.compile(optimizer='adam',\n",
    "                loss='categorical_crossentropy',\n",
    "                metrics=['accuracy'])"
   ]
  },
  {
   "cell_type": "code",
   "execution_count": 21,
   "metadata": {},
   "outputs": [
    {
     "name": "stdout",
     "output_type": "stream",
     "text": [
      "Train on 7000 samples, validate on 3000 samples\n",
      "Epoch 1/20\n",
      "7000/7000 [==============================] - 7s 1ms/step - loss: 1.1535 - acc: 0.6100 - val_loss: 0.6810 - val_acc: 0.7690\n",
      "Epoch 2/20\n",
      "7000/7000 [==============================] - 6s 912us/step - loss: 0.6999 - acc: 0.7609 - val_loss: 0.5385 - val_acc: 0.8133\n",
      "Epoch 3/20\n",
      "7000/7000 [==============================] - 7s 951us/step - loss: 0.5764 - acc: 0.7970 - val_loss: 0.4741 - val_acc: 0.8367\n",
      "Epoch 4/20\n",
      "7000/7000 [==============================] - 7s 946us/step - loss: 0.5036 - acc: 0.8214 - val_loss: 0.4606 - val_acc: 0.8430\n",
      "Epoch 5/20\n",
      "7000/7000 [==============================] - 7s 935us/step - loss: 0.4660 - acc: 0.8341 - val_loss: 0.4319 - val_acc: 0.8510\n",
      "Epoch 6/20\n",
      "7000/7000 [==============================] - 7s 948us/step - loss: 0.4351 - acc: 0.8486 - val_loss: 0.4113 - val_acc: 0.8560\n",
      "Epoch 7/20\n",
      "7000/7000 [==============================] - 7s 1ms/step - loss: 0.3900 - acc: 0.8611 - val_loss: 0.3936 - val_acc: 0.8650\n",
      "Epoch 8/20\n",
      "7000/7000 [==============================] - 7s 945us/step - loss: 0.3740 - acc: 0.8634 - val_loss: 0.3959 - val_acc: 0.8657\n",
      "Epoch 9/20\n",
      "7000/7000 [==============================] - 7s 952us/step - loss: 0.3593 - acc: 0.8691 - val_loss: 0.4081 - val_acc: 0.8640\n",
      "Epoch 10/20\n",
      "7000/7000 [==============================] - 7s 1ms/step - loss: 0.3316 - acc: 0.8784 - val_loss: 0.3841 - val_acc: 0.8713\n",
      "Epoch 11/20\n",
      "7000/7000 [==============================] - 7s 954us/step - loss: 0.3030 - acc: 0.8857 - val_loss: 0.3815 - val_acc: 0.8693\n",
      "Epoch 12/20\n",
      "7000/7000 [==============================] - 7s 944us/step - loss: 0.2978 - acc: 0.8923 - val_loss: 0.3835 - val_acc: 0.8727\n",
      "Epoch 13/20\n",
      "7000/7000 [==============================] - 7s 930us/step - loss: 0.2723 - acc: 0.9011 - val_loss: 0.3897 - val_acc: 0.8727\n",
      "Epoch 14/20\n",
      "7000/7000 [==============================] - 7s 964us/step - loss: 0.2689 - acc: 0.8981 - val_loss: 0.3791 - val_acc: 0.8747\n",
      "Epoch 15/20\n",
      "7000/7000 [==============================] - 7s 1ms/step - loss: 0.2434 - acc: 0.9071 - val_loss: 0.3879 - val_acc: 0.8697\n",
      "Epoch 16/20\n",
      "7000/7000 [==============================] - 7s 957us/step - loss: 0.2359 - acc: 0.9109 - val_loss: 0.3804 - val_acc: 0.8780\n",
      "Epoch 17/20\n",
      "7000/7000 [==============================] - 7s 1ms/step - loss: 0.2278 - acc: 0.9131 - val_loss: 0.4175 - val_acc: 0.8730\n",
      "Epoch 18/20\n",
      "7000/7000 [==============================] - 7s 985us/step - loss: 0.2226 - acc: 0.9160 - val_loss: 0.4002 - val_acc: 0.8723\n",
      "Epoch 19/20\n",
      "7000/7000 [==============================] - 7s 973us/step - loss: 0.2088 - acc: 0.9211 - val_loss: 0.4036 - val_acc: 0.8707\n",
      "Epoch 20/20\n",
      "7000/7000 [==============================] - 7s 956us/step - loss: 0.1964 - acc: 0.9236 - val_loss: 0.3921 - val_acc: 0.8753\n"
     ]
    }
   ],
   "source": [
    "history_callback = convnet.fit(X_train_small, y_train_small,\n",
    "                               batch_size=128,\n",
    "                               epochs=20, verbose=1,\n",
    "                               validation_split=.3)"
   ]
  },
  {
   "cell_type": "markdown",
   "metadata": {},
   "source": [
    "### Use MaxPool2D but no Conv2D"
   ]
  },
  {
   "cell_type": "code",
   "execution_count": 26,
   "metadata": {
    "collapsed": true
   },
   "outputs": [],
   "source": [
    "input_image = Input(shape=(28, 28, 1))\n",
    "x = MaxPool2D(2, strides=2)(input_image)\n",
    "x = MaxPool2D(2, strides=2)(x)\n",
    "x = Flatten()(x)\n",
    "x = Dense(100, activation='relu')(x)\n",
    "x = Dropout(0.2)(x)\n",
    "x = Dense(10, activation='softmax')(x)\n",
    "convnet = Model(inputs=input_image, outputs=x)\n",
    "\n",
    "convnet.compile(optimizer='adam',\n",
    "                loss='categorical_crossentropy',\n",
    "                metrics=['accuracy'])"
   ]
  },
  {
   "cell_type": "code",
   "execution_count": 27,
   "metadata": {},
   "outputs": [
    {
     "name": "stdout",
     "output_type": "stream",
     "text": [
      "Train on 7000 samples, validate on 3000 samples\n",
      "Epoch 1/20\n",
      "7000/7000 [==============================] - 1s 112us/step - loss: 1.8743 - acc: 0.3687 - val_loss: 1.4143 - val_acc: 0.5390\n",
      "Epoch 2/20\n",
      "7000/7000 [==============================] - 0s 53us/step - loss: 1.2876 - acc: 0.5464 - val_loss: 1.0862 - val_acc: 0.6147\n",
      "Epoch 3/20\n",
      "7000/7000 [==============================] - 0s 52us/step - loss: 1.0902 - acc: 0.5914 - val_loss: 0.9601 - val_acc: 0.6627\n",
      "Epoch 4/20\n",
      "7000/7000 [==============================] - 0s 52us/step - loss: 0.9893 - acc: 0.6246 - val_loss: 0.8977 - val_acc: 0.6697\n",
      "Epoch 5/20\n",
      "7000/7000 [==============================] - 1s 76us/step - loss: 0.9330 - acc: 0.6510 - val_loss: 0.8483 - val_acc: 0.6877\n",
      "Epoch 6/20\n",
      "7000/7000 [==============================] - 0s 70us/step - loss: 0.8891 - acc: 0.6684 - val_loss: 0.8216 - val_acc: 0.7013\n",
      "Epoch 7/20\n",
      "7000/7000 [==============================] - 0s 58us/step - loss: 0.8574 - acc: 0.6713 - val_loss: 0.7924 - val_acc: 0.7123\n",
      "Epoch 8/20\n",
      "7000/7000 [==============================] - 0s 62us/step - loss: 0.8333 - acc: 0.6843 - val_loss: 0.7778 - val_acc: 0.7163\n",
      "Epoch 9/20\n",
      "7000/7000 [==============================] - 0s 63us/step - loss: 0.8148 - acc: 0.6913 - val_loss: 0.7582 - val_acc: 0.7227\n",
      "Epoch 10/20\n",
      "7000/7000 [==============================] - 0s 53us/step - loss: 0.8007 - acc: 0.6947 - val_loss: 0.7508 - val_acc: 0.7210\n",
      "Epoch 11/20\n",
      "7000/7000 [==============================] - 1s 96us/step - loss: 0.7831 - acc: 0.7017 - val_loss: 0.7358 - val_acc: 0.7273\n",
      "Epoch 12/20\n",
      "7000/7000 [==============================] - 0s 64us/step - loss: 0.7640 - acc: 0.7104 - val_loss: 0.7242 - val_acc: 0.7367\n",
      "Epoch 13/20\n",
      "7000/7000 [==============================] - 0s 71us/step - loss: 0.7563 - acc: 0.7073 - val_loss: 0.7191 - val_acc: 0.7360\n",
      "Epoch 14/20\n",
      "7000/7000 [==============================] - 0s 61us/step - loss: 0.7440 - acc: 0.7134 - val_loss: 0.7109 - val_acc: 0.7330\n",
      "Epoch 15/20\n",
      "7000/7000 [==============================] - 0s 54us/step - loss: 0.7346 - acc: 0.7207 - val_loss: 0.6998 - val_acc: 0.7380\n",
      "Epoch 16/20\n",
      "7000/7000 [==============================] - 1s 76us/step - loss: 0.7192 - acc: 0.7240 - val_loss: 0.6935 - val_acc: 0.7533\n",
      "Epoch 17/20\n",
      "7000/7000 [==============================] - 0s 63us/step - loss: 0.7126 - acc: 0.7287 - val_loss: 0.6935 - val_acc: 0.7430\n",
      "Epoch 18/20\n",
      "7000/7000 [==============================] - 1s 72us/step - loss: 0.7106 - acc: 0.7260 - val_loss: 0.6826 - val_acc: 0.7483\n",
      "Epoch 19/20\n",
      "7000/7000 [==============================] - 1s 84us/step - loss: 0.6986 - acc: 0.7326 - val_loss: 0.6760 - val_acc: 0.7480\n",
      "Epoch 20/20\n",
      "7000/7000 [==============================] - 1s 110us/step - loss: 0.6972 - acc: 0.7383 - val_loss: 0.6762 - val_acc: 0.7460\n"
     ]
    }
   ],
   "source": [
    "history_callback = convnet.fit(X_train_small, y_train_small,\n",
    "                               batch_size=128,\n",
    "                               epochs=20, verbose=1,\n",
    "                               validation_split=.3)"
   ]
  },
  {
   "cell_type": "markdown",
   "metadata": {},
   "source": [
    "### Use BatchNormalization and Conv2D"
   ]
  },
  {
   "cell_type": "code",
   "execution_count": 28,
   "metadata": {
    "collapsed": true
   },
   "outputs": [],
   "source": [
    "input_image = Input(shape=(28, 28, 1))\n",
    "x = Conv2D(16, 6, activation='relu')(input_image)\n",
    "x = BatchNormalization()(x)\n",
    "x = Conv2D(32, 4, activation='relu')(x)\n",
    "x = Flatten()(x)\n",
    "x = Dense(100, activation='relu')(x)\n",
    "x = Dropout(0.2)(x)\n",
    "x = Dense(10, activation='softmax')(x)\n",
    "convnet = Model(inputs=input_image, outputs=x)\n",
    "\n",
    "convnet.compile(optimizer='adam',\n",
    "                loss='categorical_crossentropy',\n",
    "                metrics=['accuracy'])"
   ]
  },
  {
   "cell_type": "code",
   "execution_count": 29,
   "metadata": {},
   "outputs": [
    {
     "name": "stdout",
     "output_type": "stream",
     "text": [
      "Train on 7000 samples, validate on 3000 samples\n",
      "Epoch 1/20\n",
      "7000/7000 [==============================] - 11s 2ms/step - loss: 0.7812 - acc: 0.7251 - val_loss: 0.4909 - val_acc: 0.8287\n",
      "Epoch 2/20\n",
      "7000/7000 [==============================] - 10s 1ms/step - loss: 0.4321 - acc: 0.8439 - val_loss: 0.4374 - val_acc: 0.8380\n",
      "Epoch 3/20\n",
      "7000/7000 [==============================] - 10s 1ms/step - loss: 0.3511 - acc: 0.8693 - val_loss: 0.4007 - val_acc: 0.8540\n",
      "Epoch 4/20\n",
      "7000/7000 [==============================] - 10s 1ms/step - loss: 0.2846 - acc: 0.8913 - val_loss: 0.4046 - val_acc: 0.8613\n",
      "Epoch 5/20\n",
      "7000/7000 [==============================] - 10s 1ms/step - loss: 0.2285 - acc: 0.9104 - val_loss: 0.3899 - val_acc: 0.8567\n",
      "Epoch 6/20\n",
      "7000/7000 [==============================] - 10s 1ms/step - loss: 0.1896 - acc: 0.9306 - val_loss: 0.4131 - val_acc: 0.8593\n",
      "Epoch 7/20\n",
      "7000/7000 [==============================] - 10s 1ms/step - loss: 0.1642 - acc: 0.9393 - val_loss: 0.4528 - val_acc: 0.8673\n",
      "Epoch 8/20\n",
      "7000/7000 [==============================] - 10s 1ms/step - loss: 0.1386 - acc: 0.9486 - val_loss: 0.4504 - val_acc: 0.8650\n",
      "Epoch 9/20\n",
      "7000/7000 [==============================] - 10s 1ms/step - loss: 0.1151 - acc: 0.9580 - val_loss: 0.4785 - val_acc: 0.8703\n",
      "Epoch 10/20\n",
      "7000/7000 [==============================] - 10s 1ms/step - loss: 0.0907 - acc: 0.9686 - val_loss: 0.5159 - val_acc: 0.8667\n",
      "Epoch 11/20\n",
      "7000/7000 [==============================] - 10s 1ms/step - loss: 0.0796 - acc: 0.9709 - val_loss: 0.5145 - val_acc: 0.8683\n",
      "Epoch 12/20\n",
      "7000/7000 [==============================] - 10s 1ms/step - loss: 0.0757 - acc: 0.9721 - val_loss: 0.5210 - val_acc: 0.8660\n",
      "Epoch 13/20\n",
      "7000/7000 [==============================] - 10s 1ms/step - loss: 0.0592 - acc: 0.9806 - val_loss: 0.5373 - val_acc: 0.8647\n",
      "Epoch 14/20\n",
      "7000/7000 [==============================] - 10s 1ms/step - loss: 0.0647 - acc: 0.9783 - val_loss: 0.5136 - val_acc: 0.8733\n",
      "Epoch 15/20\n",
      "7000/7000 [==============================] - 11s 2ms/step - loss: 0.0521 - acc: 0.9834 - val_loss: 0.5593 - val_acc: 0.8617\n",
      "Epoch 16/20\n",
      "7000/7000 [==============================] - 11s 2ms/step - loss: 0.0432 - acc: 0.9874 - val_loss: 0.5464 - val_acc: 0.8680\n",
      "Epoch 17/20\n",
      "7000/7000 [==============================] - 10s 1ms/step - loss: 0.0311 - acc: 0.9897 - val_loss: 0.6176 - val_acc: 0.8707\n",
      "Epoch 18/20\n",
      "7000/7000 [==============================] - 11s 2ms/step - loss: 0.0284 - acc: 0.9917 - val_loss: 0.5706 - val_acc: 0.8747\n",
      "Epoch 19/20\n",
      "7000/7000 [==============================] - 10s 1ms/step - loss: 0.0311 - acc: 0.9894 - val_loss: 0.5817 - val_acc: 0.8697\n",
      "Epoch 20/20\n",
      "7000/7000 [==============================] - 11s 2ms/step - loss: 0.0214 - acc: 0.9939 - val_loss: 0.6267 - val_acc: 0.8723\n"
     ]
    }
   ],
   "source": [
    "history_callback = convnet.fit(X_train_small, y_train_small,\n",
    "                               batch_size=128,\n",
    "                               epochs=20, verbose=1,\n",
    "                               validation_split=.3)"
   ]
  },
  {
   "cell_type": "markdown",
   "metadata": {},
   "source": [
    "### Test a network with larger convolutional filters (takes long time to train)"
   ]
  },
  {
   "cell_type": "code",
   "execution_count": 30,
   "metadata": {
    "collapsed": true
   },
   "outputs": [],
   "source": [
    "input_image = Input(shape=(28, 28, 1))\n",
    "x = Conv2D(64, 6, activation='relu')(input_image)\n",
    "x = BatchNormalization()(x)\n",
    "x = Conv2D(32, 4, activation='relu')(x)\n",
    "x = BatchNormalization()(x)\n",
    "x = Dropout(0.2)(x)\n",
    "x = Flatten()(x)\n",
    "x = Dense(100, activation='relu')(x)\n",
    "x = Dropout(0.2)(x)\n",
    "x = Dense(10, activation='softmax')(x)\n",
    "convnet = Model(inputs=input_image, outputs=x)\n",
    "\n",
    "convnet.compile(optimizer='adam',\n",
    "                loss='categorical_crossentropy',\n",
    "                metrics=['accuracy'])"
   ]
  },
  {
   "cell_type": "code",
   "execution_count": 31,
   "metadata": {},
   "outputs": [
    {
     "name": "stdout",
     "output_type": "stream",
     "text": [
      "Train on 7000 samples, validate on 3000 samples\n",
      "Epoch 1/20\n",
      "7000/7000 [==============================] - 39s 6ms/step - loss: 0.8857 - acc: 0.7229 - val_loss: 0.5480 - val_acc: 0.8103\n",
      "Epoch 2/20\n",
      "7000/7000 [==============================] - 38s 5ms/step - loss: 0.4982 - acc: 0.8213 - val_loss: 0.6788 - val_acc: 0.8083\n",
      "Epoch 3/20\n",
      "7000/7000 [==============================] - 41s 6ms/step - loss: 0.3916 - acc: 0.8537 - val_loss: 0.4977 - val_acc: 0.8407\n",
      "Epoch 4/20\n",
      "7000/7000 [==============================] - 38s 5ms/step - loss: 0.3270 - acc: 0.8799 - val_loss: 0.5175 - val_acc: 0.8293\n",
      "Epoch 5/20\n",
      "7000/7000 [==============================] - 37s 5ms/step - loss: 0.2664 - acc: 0.8976 - val_loss: 0.4717 - val_acc: 0.8493\n",
      "Epoch 6/20\n",
      "7000/7000 [==============================] - 40s 6ms/step - loss: 0.2359 - acc: 0.9067 - val_loss: 0.4730 - val_acc: 0.8460\n",
      "Epoch 7/20\n",
      "7000/7000 [==============================] - 38s 5ms/step - loss: 0.2126 - acc: 0.9167 - val_loss: 0.5423 - val_acc: 0.8500\n",
      "Epoch 8/20\n",
      "7000/7000 [==============================] - 37s 5ms/step - loss: 0.1865 - acc: 0.9256 - val_loss: 0.5618 - val_acc: 0.8643\n",
      "Epoch 9/20\n",
      "7000/7000 [==============================] - 36s 5ms/step - loss: 0.1763 - acc: 0.9311 - val_loss: 0.5607 - val_acc: 0.8620\n",
      "Epoch 10/20\n",
      "7000/7000 [==============================] - 38s 5ms/step - loss: 0.1572 - acc: 0.9373 - val_loss: 0.5552 - val_acc: 0.8583\n",
      "Epoch 11/20\n",
      "7000/7000 [==============================] - 39s 6ms/step - loss: 0.1348 - acc: 0.9491 - val_loss: 0.6257 - val_acc: 0.8550\n",
      "Epoch 12/20\n",
      "7000/7000 [==============================] - 40s 6ms/step - loss: 0.1133 - acc: 0.9557 - val_loss: 0.5914 - val_acc: 0.8603\n",
      "Epoch 13/20\n",
      "7000/7000 [==============================] - 39s 6ms/step - loss: 0.1010 - acc: 0.9609 - val_loss: 0.5675 - val_acc: 0.8603\n",
      "Epoch 14/20\n",
      "7000/7000 [==============================] - 41s 6ms/step - loss: 0.0957 - acc: 0.9643 - val_loss: 0.5811 - val_acc: 0.8590\n",
      "Epoch 15/20\n",
      "7000/7000 [==============================] - 40s 6ms/step - loss: 0.0772 - acc: 0.9716 - val_loss: 0.5612 - val_acc: 0.8723\n",
      "Epoch 16/20\n",
      "7000/7000 [==============================] - 36s 5ms/step - loss: 0.0745 - acc: 0.9730 - val_loss: 0.6494 - val_acc: 0.8663\n",
      "Epoch 17/20\n",
      "7000/7000 [==============================] - 38s 5ms/step - loss: 0.0734 - acc: 0.9719 - val_loss: 0.5795 - val_acc: 0.8730\n",
      "Epoch 18/20\n",
      "7000/7000 [==============================] - 37s 5ms/step - loss: 0.0625 - acc: 0.9769 - val_loss: 0.5972 - val_acc: 0.8693\n",
      "Epoch 19/20\n",
      "7000/7000 [==============================] - 37s 5ms/step - loss: 0.0549 - acc: 0.9800 - val_loss: 0.6983 - val_acc: 0.8737\n",
      "Epoch 20/20\n",
      "7000/7000 [==============================] - 38s 5ms/step - loss: 0.0482 - acc: 0.9830 - val_loss: 0.6180 - val_acc: 0.8693\n"
     ]
    }
   ],
   "source": [
    "history_callback = convnet.fit(X_train_small, y_train_small,\n",
    "                               batch_size=128,\n",
    "                               epochs=20, verbose=1,\n",
    "                               validation_split=.3)"
   ]
  },
  {
   "cell_type": "code",
   "execution_count": 37,
   "metadata": {
    "collapsed": true
   },
   "outputs": [],
   "source": [
    "input_image = Input(shape=(28, 28, 1))\n",
    "x = Conv2D(36, 6, activation='relu')(input_image)\n",
    "x = MaxPool2D(3, strides=2)(x)\n",
    "x = BatchNormalization()(x)\n",
    "x = Dropout(0.4)(x)\n",
    "x = Flatten()(x)\n",
    "x = Dense(256, activation='relu')(x)\n",
    "x = Dropout(0.4)(x)\n",
    "x = Dense(10, activation='softmax')(x)\n",
    "convnet = Model(inputs=input_image, outputs=x)\n",
    "\n",
    "convnet.compile(optimizer='adam',\n",
    "                loss='categorical_crossentropy',\n",
    "                metrics=['accuracy'])"
   ]
  },
  {
   "cell_type": "code",
   "execution_count": 38,
   "metadata": {},
   "outputs": [
    {
     "name": "stdout",
     "output_type": "stream",
     "text": [
      "Train on 7000 samples, validate on 3000 samples\n",
      "Epoch 1/20\n",
      "7000/7000 [==============================] - 7s 1ms/step - loss: 0.7758 - acc: 0.7403 - val_loss: 0.4688 - val_acc: 0.8287\n",
      "Epoch 2/20\n",
      "7000/7000 [==============================] - 7s 949us/step - loss: 0.4560 - acc: 0.8344 - val_loss: 0.4271 - val_acc: 0.8437\n",
      "Epoch 3/20\n",
      "7000/7000 [==============================] - 7s 1ms/step - loss: 0.3813 - acc: 0.8557 - val_loss: 0.4075 - val_acc: 0.8543\n",
      "Epoch 4/20\n",
      "7000/7000 [==============================] - 7s 988us/step - loss: 0.3268 - acc: 0.8764 - val_loss: 0.3758 - val_acc: 0.8723\n",
      "Epoch 5/20\n",
      "7000/7000 [==============================] - 6s 905us/step - loss: 0.2959 - acc: 0.8870 - val_loss: 0.3656 - val_acc: 0.8767\n",
      "Epoch 6/20\n",
      "7000/7000 [==============================] - 7s 932us/step - loss: 0.2802 - acc: 0.8967 - val_loss: 0.3475 - val_acc: 0.8780\n",
      "Epoch 7/20\n",
      "7000/7000 [==============================] - 6s 920us/step - loss: 0.2355 - acc: 0.9081 - val_loss: 0.3510 - val_acc: 0.8773\n",
      "Epoch 8/20\n",
      "7000/7000 [==============================] - 7s 967us/step - loss: 0.2218 - acc: 0.9154 - val_loss: 0.3713 - val_acc: 0.8810\n",
      "Epoch 9/20\n",
      "7000/7000 [==============================] - 8s 1ms/step - loss: 0.2100 - acc: 0.9203 - val_loss: 0.3538 - val_acc: 0.8830\n",
      "Epoch 10/20\n",
      "7000/7000 [==============================] - 7s 948us/step - loss: 0.1899 - acc: 0.9307 - val_loss: 0.4222 - val_acc: 0.8713\n",
      "Epoch 11/20\n",
      "7000/7000 [==============================] - 7s 936us/step - loss: 0.1753 - acc: 0.9337 - val_loss: 0.3661 - val_acc: 0.8910\n",
      "Epoch 12/20\n",
      "7000/7000 [==============================] - 6s 927us/step - loss: 0.1652 - acc: 0.9377 - val_loss: 0.3521 - val_acc: 0.8897\n",
      "Epoch 13/20\n",
      "7000/7000 [==============================] - 7s 1ms/step - loss: 0.1743 - acc: 0.9347 - val_loss: 0.4099 - val_acc: 0.8767\n",
      "Epoch 14/20\n",
      "7000/7000 [==============================] - 7s 954us/step - loss: 0.1436 - acc: 0.9479 - val_loss: 0.4108 - val_acc: 0.8870\n",
      "Epoch 15/20\n",
      "7000/7000 [==============================] - 7s 956us/step - loss: 0.1422 - acc: 0.9457 - val_loss: 0.4072 - val_acc: 0.8843\n",
      "Epoch 16/20\n",
      "7000/7000 [==============================] - 7s 991us/step - loss: 0.1333 - acc: 0.9501 - val_loss: 0.4530 - val_acc: 0.8773\n",
      "Epoch 17/20\n",
      "7000/7000 [==============================] - 7s 953us/step - loss: 0.1349 - acc: 0.9501 - val_loss: 0.3673 - val_acc: 0.8883\n",
      "Epoch 18/20\n",
      "7000/7000 [==============================] - 7s 967us/step - loss: 0.1354 - acc: 0.9481 - val_loss: 0.3784 - val_acc: 0.8957\n",
      "Epoch 19/20\n",
      "7000/7000 [==============================] - 7s 934us/step - loss: 0.1178 - acc: 0.9561 - val_loss: 0.4397 - val_acc: 0.8783\n",
      "Epoch 20/20\n",
      "7000/7000 [==============================] - 7s 948us/step - loss: 0.1133 - acc: 0.9571 - val_loss: 0.3921 - val_acc: 0.8957\n"
     ]
    }
   ],
   "source": [
    "history_callback = convnet.fit(X_train_small, y_train_small,\n",
    "                               batch_size=128,\n",
    "                               epochs=20, verbose=1,\n",
    "                               validation_split=.3)"
   ]
  },
  {
   "cell_type": "markdown",
   "metadata": {},
   "source": [
    "** Conclusion ** The various layers have some effect on the training speed of the NN, however, eventually all the tested solutions overfit the model parameters, even with higher fractions in the Dropuout layers and the accuracy in the test data remains ~ 90%. This was the value also achieved with the dense network. "
   ]
  },
  {
   "cell_type": "code",
   "execution_count": null,
   "metadata": {
    "collapsed": true
   },
   "outputs": [],
   "source": []
  }
 ],
 "metadata": {
  "kernelspec": {
   "display_name": "Python 3",
   "language": "python",
   "name": "python3"
  },
  "language_info": {
   "codemirror_mode": {
    "name": "ipython",
    "version": 3
   },
   "file_extension": ".py",
   "mimetype": "text/x-python",
   "name": "python",
   "nbconvert_exporter": "python",
   "pygments_lexer": "ipython3",
   "version": "3.6.5"
  }
 },
 "nbformat": 4,
 "nbformat_minor": 2
}
